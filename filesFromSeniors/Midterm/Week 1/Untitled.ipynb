{
 "cells": [
  {
   "cell_type": "code",
   "execution_count": 2,
   "id": "3e5c0723",
   "metadata": {},
   "outputs": [
    {
     "name": "stdout",
     "output_type": "stream",
     "text": [
      "1 2 3 4\n",
      "[1, 2, 3, 4]\n"
     ]
    }
   ],
   "source": [
    "numList = list(map(int, input().split()))\n",
    "print(numList)"
   ]
  },
  {
   "cell_type": "code",
   "execution_count": 15,
   "id": "e2f74ef1",
   "metadata": {},
   "outputs": [
    {
     "name": "stdout",
     "output_type": "stream",
     "text": [
      "-2 -3 4 -1 -2 1 5 -3\n",
      "7\n"
     ]
    }
   ],
   "source": [
    "def Sum(x, i, j):\n",
    "    s = 0\n",
    "    for k in range(i, j+1):\n",
    "        s += x[k]\n",
    "    return s\n",
    "\n",
    "\n",
    "numList = list(map(int, input().split()))\n",
    "total = 0\n",
    "for i in range(len(numList)):\n",
    "    for j in range(i, len(numList)):\n",
    "        sumAll = Sum(numList, i, j)\n",
    "        if sumAll > total:\n",
    "            total = sumAll\n",
    "\n",
    "print(total)"
   ]
  },
  {
   "cell_type": "code",
   "execution_count": 44,
   "id": "12fab216",
   "metadata": {},
   "outputs": [
    {
     "name": "stdout",
     "output_type": "stream",
     "text": [
      "-2 -3 4 -1 -2 1 5 -3\n",
      "7\n"
     ]
    }
   ],
   "source": [
    "def Sum(x, i, j):\n",
    "    s = 0\n",
    "    if i == 0:\n",
    "        s = x[j]\n",
    "    else:\n",
    "        s = x[j] - x[i-1]\n",
    "    return s\n",
    "\n",
    "numList = list(map(int, input().split()))\n",
    "total = 0\n",
    "for s in range(1, len(numList)):\n",
    "    numList[s] += numList[s-1]\n",
    "\n",
    "for i in range(len(numList)):\n",
    "    for j in range(i, len(numList)):\n",
    "        sumAll = Sum(numList, i, j)\n",
    "        if sumAll > total:\n",
    "            total = sumAll\n",
    "\n",
    "print(total)"
   ]
  },
  {
   "cell_type": "code",
   "execution_count": null,
   "id": "7e6a29a9",
   "metadata": {},
   "outputs": [],
   "source": []
  }
 ],
 "metadata": {
  "kernelspec": {
   "display_name": "Python 3",
   "language": "python",
   "name": "python3"
  },
  "language_info": {
   "codemirror_mode": {
    "name": "ipython",
    "version": 3
   },
   "file_extension": ".py",
   "mimetype": "text/x-python",
   "name": "python",
   "nbconvert_exporter": "python",
   "pygments_lexer": "ipython3",
   "version": "3.8.10"
  }
 },
 "nbformat": 4,
 "nbformat_minor": 5
}
